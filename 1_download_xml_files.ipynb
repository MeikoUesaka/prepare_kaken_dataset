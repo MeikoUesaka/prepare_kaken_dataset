{
 "cells": [
  {
   "cell_type": "markdown",
   "metadata": {},
   "source": [
    "# KAKENから研究課題XMLファイルをダウンロードするプログラム"
   ]
  },
  {
   "cell_type": "markdown",
   "metadata": {},
   "source": [
    "## 事前準備"
   ]
  },
  {
   "cell_type": "markdown",
   "metadata": {},
   "source": [
    "データを取得する年度を指定する。KAKENは1964年度からのデータが保存されている。"
   ]
  },
  {
   "cell_type": "code",
   "execution_count": null,
   "metadata": {},
   "outputs": [],
   "source": [
    "startyear = 1964\n",
    "endyear = 2019"
   ]
  },
  {
   "cell_type": "markdown",
   "metadata": {},
   "source": [
    "1. CiNiiウェブAPIの利用登録を済ませておく。詳細は https://support.nii.ac.jp/ja/cinii/api/developer のとおり。登録が完了したら、appidがメールで通知される。\n",
    "2. appidはconfig.iniに保存しておく（配置場所は、このプログラムでは、\"../../settings/config.ini\"としているが、どこに置いてもいい）\n",
    "3. ローカルに、MySQLかMariaDBをインストールしておく\n",
    "4. 実際にテーブルを保存する場所としてのデータベース名は、kakenとして作成する。\n",
    "5. データベースのusernameとpasswordを、config.iniに保存しておく"
   ]
  },
  {
   "cell_type": "markdown",
   "metadata": {},
   "source": [
    "#### config.iniのサンプル\n",
    "\n",
    "[CiNii_web_api]\n",
    "\n",
    "appid = ****\n",
    "\n",
    "[mariadb]\n",
    "\n",
    "username = ****\n",
    "\n",
    "password = ****\n",
    "\n",
    "\n"
   ]
  },
  {
   "cell_type": "code",
   "execution_count": null,
   "metadata": {},
   "outputs": [],
   "source": [
    "import configparser\n",
    "import os\n",
    "import re\n",
    "\n",
    "import requests\n",
    "from bs4 import BeautifulSoup\n",
    "from tqdm.notebook import tqdm_notebook\n",
    "\n",
    "config = configparser.ConfigParser()\n",
    "config.read(\"../../settings/config.ini\")\n",
    "appid = config[\"CiNii_web_api\"][\"appid\"]\n",
    "ROOT_URL = 'https://kaken.nii.ac.jp/opensearch/?appid=' + appid"
   ]
  },
  {
   "cell_type": "markdown",
   "metadata": {},
   "source": [
    "ファイル保存用のフォルダを作成する"
   ]
  },
  {
   "cell_type": "code",
   "execution_count": null,
   "metadata": {},
   "outputs": [],
   "source": [
    "os.makedirs(\"xml\", exist_ok=True)"
   ]
  },
  {
   "cell_type": "markdown",
   "metadata": {},
   "source": [
    "## 関数の定義"
   ]
  },
  {
   "cell_type": "markdown",
   "metadata": {},
   "source": [
    "年度ごとの件数を取得する関数"
   ]
  },
  {
   "cell_type": "code",
   "execution_count": null,
   "metadata": {},
   "outputs": [],
   "source": [
    "def get_number_of_record(year):\n",
    "    url = ROOT_URL + \"&format=xhtml\" + \"&s1=\" + str(year) + \"&s2=\" + str(year) + \"&o1=1\"\n",
    "    r = requests.get(url)\n",
    "    html = r.text\n",
    "    soup = BeautifulSoup(html, \"lxml\")\n",
    "    tag = soup.select(\"p.search-term-selected\")\n",
    "    p = str(tag[0])  # 数字＝件数\n",
    "    pattern = r\"([+-]?[0-9]+\\,?[0-9]*)\"\n",
    "    numberlist = re.findall(pattern, p)\n",
    "    cnt = str(numberlist[0])\n",
    "    cnt = int(cnt.replace(\",\", \"\"))\n",
    "    return cnt"
   ]
  },
  {
   "cell_type": "markdown",
   "metadata": {},
   "source": [
    "## ダウンロードを実行する"
   ]
  },
  {
   "cell_type": "code",
   "execution_count": null,
   "metadata": {
    "scrolled": true
   },
   "outputs": [],
   "source": [
    "for year in tqdm_notebook(range(startyear, endyear + 1)):\n",
    "    cnt = get_number_of_record(year)\n",
    "    for start in tqdm_notebook(range(1, cnt, 500)):\n",
    "        rw = 500\n",
    "        if start + rw > cnt:\n",
    "            end = cnt\n",
    "        else:\n",
    "            end = start + rw - 1\n",
    "\n",
    "        url = (\n",
    "            ROOT_URL\n",
    "            + \"&format=xml\"\n",
    "            + \"&s1=\"\n",
    "            + str(year)\n",
    "            + \"&s2=\"\n",
    "            + str(year)\n",
    "            + \"&o1=1\"\n",
    "            + \"&st=\"\n",
    "            + str(start)\n",
    "            + \"&rw=\"\n",
    "            + str(rw)\n",
    "        )\n",
    "        r = requests.get(url)\n",
    "        if r.status_code == 200:\n",
    "            filename = \"xml/\" + str(year) + \"_\" + str(start) + \"-\" + str(end) + \".xml\"\n",
    "            with open(filename, mode=\"w\", encoding=\"utf-8\") as f:\n",
    "                f.write(r.text)"
   ]
  },
  {
   "cell_type": "markdown",
   "metadata": {
    "collapsed": true
   },
   "source": [
    "## おわり\n",
    "\n",
    "xmlフォルダを確認し、ファイルが保存されていればOK！"
   ]
  }
 ],
 "metadata": {
  "kernelspec": {
   "display_name": "Python 3",
   "language": "python",
   "name": "python3"
  },
  "language_info": {
   "codemirror_mode": {
    "name": "ipython",
    "version": 3
   },
   "file_extension": ".py",
   "mimetype": "text/x-python",
   "name": "python",
   "nbconvert_exporter": "python",
   "pygments_lexer": "ipython3",
   "version": "3.7.5"
  }
 },
 "nbformat": 4,
 "nbformat_minor": 2
}
