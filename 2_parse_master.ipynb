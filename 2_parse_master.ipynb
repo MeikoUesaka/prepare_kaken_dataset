{
 "cells": [
  {
   "cell_type": "markdown",
   "metadata": {},
   "source": [
    "# KAKENの各種マスタをローカルのDBに保存する"
   ]
  },
  {
   "cell_type": "markdown",
   "metadata": {},
   "source": [
    "## 事前準備"
   ]
  },
  {
   "cell_type": "markdown",
   "metadata": {},
   "source": [
    "- KAKENマスタデータは、git のリポジトリで管理されており、最新のデータを利用可能。https://bitbucket.org/niijp/grants_masterxml_kaken/ からリポジトリを pull して、ローカルの ./grants_masterxml_kaken フォルダに同期しておく。"
   ]
  },
  {
   "cell_type": "markdown",
   "metadata": {},
   "source": [
    "1. 研究種目：category_master_kakenhi.xml\n",
    "2. 研究分野：field_master_kakenhi.xml\n",
    "3. 研究機関：institution_master_kakenhi.xml\n",
    "4. 審査区分：review_section_master_kakenhi.xml\n",
    "5. 応募区分：section_master_kakenhi.xml"
   ]
  },
  {
   "cell_type": "code",
   "execution_count": null,
   "metadata": {},
   "outputs": [],
   "source": [
    "import configparser\n",
    "\n",
    "import numpy as np\n",
    "import pandas as pd\n",
    "import pymysql\n",
    "from lxml import etree\n",
    "from sqlalchemy import create_engine\n",
    "from sqlalchemy.types import Date, Integer, String, Text"
   ]
  },
  {
   "cell_type": "code",
   "execution_count": null,
   "metadata": {},
   "outputs": [],
   "source": [
    "config = configparser.ConfigParser()\n",
    "config.read(\"../../settings/config.ini\")\n",
    "username = config[\"mariadb\"][\"username\"]\n",
    "password = config[\"mariadb\"][\"password\"]\n",
    "url = (\n",
    "    \"mysql+pymysql://\"\n",
    "    + username\n",
    "    + \":\"\n",
    "    + password\n",
    "    + \"@localhost:3306/\"\n",
    "    + \"kaken\"\n",
    "    + \"?charset=UTF8MB4\"\n",
    ")\n",
    "engine = create_engine(url, echo=True)"
   ]
  },
  {
   "cell_type": "markdown",
   "metadata": {},
   "source": [
    "## 1. 研究種目マスタ"
   ]
  },
  {
   "cell_type": "code",
   "execution_count": null,
   "metadata": {
    "scrolled": true
   },
   "outputs": [],
   "source": [
    "# XMLファイルからリストを作成する\n",
    "tree = etree.parse(\"../grants_masterxml_kaken/category_master_kakenhi.xml\")\n",
    "categorylist = []\n",
    "for category_table in tree.iterfind(\"category_table\"):\n",
    "    for category in category_table.iterfind(\"category\"):\n",
    "        name = category.find(\"name[@lang='ja']\").text\n",
    "        niicode = category.find(\"code[@type='nii']\").text\n",
    "        row = [niicode, name]\n",
    "        categorylist.append(row)\n",
    "# リストをデータフレームに変換する\n",
    "columns = [\"category_niicode\", \"category_name\"]\n",
    "df = pd.DataFrame(categorylist, columns=columns)\n",
    "# 重複を削除して、category_niicodeに重複がないことを確認して、インデックスに設定する\n",
    "df = df.drop_duplicates()\n",
    "assert not df[\"category_niicode\"].duplicated().any(), \"category_niicode is duplicated.\"\n",
    "df = df.set_index(\"category_niicode\")\n",
    "df"
   ]
  },
  {
   "cell_type": "code",
   "execution_count": null,
   "metadata": {
    "scrolled": true
   },
   "outputs": [],
   "source": [
    "# 外部キー制約を外す\n",
    "try:\n",
    "    with engine.connect() as con:\n",
    "        con.execute(\"ALTER TABLE grantaward DROP FOREIGN KEY category_niicode_1;\")\n",
    "except:\n",
    "    pass\n",
    "# データベースに書き込む\n",
    "df.to_sql(\n",
    "    \"categories\",\n",
    "    engine,\n",
    "    if_exists=\"replace\",\n",
    "    dtype={\"category_niicode\": Integer, \"category_name\": String(255)},\n",
    ")"
   ]
  },
  {
   "cell_type": "markdown",
   "metadata": {},
   "source": [
    "## 2. 研究分野マスタ"
   ]
  },
  {
   "cell_type": "code",
   "execution_count": null,
   "metadata": {
    "scrolled": true
   },
   "outputs": [],
   "source": [
    "# XMLファイルからリストを作成する\n",
    "tree = etree.parse(\"../grants_masterxml_kaken/field_master_kakenhi.xml\")\n",
    "fieldlist = []\n",
    "for field_table in tree.iterfind(\"field_table\"):\n",
    "    field_table_type = field_table.get(\"type\")\n",
    "    field_table_start_date = field_table.get(\"start_date\")\n",
    "    field_table_end_date = field_table.get(\"end_date\")\n",
    "    # layer 1\n",
    "    for field in field_table.iterfind(\"field\"):\n",
    "        field_path = field.get(\"path\")\n",
    "        field_niicode = field.find(\"code[@type='nii']\").text\n",
    "        field_name = field.find(\"name[@lang='ja']\").text\n",
    "        row = [\n",
    "            field_table_type,\n",
    "            field_table_start_date,\n",
    "            field_table_end_date,\n",
    "            field_path,\n",
    "            field_niicode,\n",
    "            field_name,\n",
    "            1,\n",
    "        ]\n",
    "        fieldlist.append(row)\n",
    "        # layer 2\n",
    "        for field in field.iterfind(\"field\"):\n",
    "            field_path = field.get(\"path\")\n",
    "            field_niicode = field.find(\"code[@type='nii']\").text\n",
    "            field_name = field.find(\"name[@lang='ja']\").text\n",
    "            row = [\n",
    "                field_table_type,\n",
    "                field_table_start_date,\n",
    "                field_table_end_date,\n",
    "                field_path,\n",
    "                field_niicode,\n",
    "                field_name,\n",
    "                2,\n",
    "            ]\n",
    "            fieldlist.append(row)\n",
    "            # layer 3\n",
    "            for field in field.iterfind(\"field\"):\n",
    "                field_path = field.get(\"path\")\n",
    "                field_niicode = field.find(\"code[@type='nii']\").text\n",
    "                field_name = field.find(\"name[@lang='ja']\").text\n",
    "                row = [\n",
    "                    field_table_type,\n",
    "                    field_table_start_date,\n",
    "                    field_table_end_date,\n",
    "                    field_path,\n",
    "                    field_niicode,\n",
    "                    field_name,\n",
    "                    3,\n",
    "                ]\n",
    "                fieldlist.append(row)\n",
    "                # layer 4\n",
    "                for field in field.iterfind(\"field\"):\n",
    "                    field_path = field.get(\"path\")\n",
    "                    field_niicode = field.find(\"code[@type='nii']\").text\n",
    "                    field_name = field.find(\"name[@lang='ja']\").text\n",
    "                    row = [\n",
    "                        field_table_type,\n",
    "                        field_table_start_date,\n",
    "                        field_table_end_date,\n",
    "                        field_path,\n",
    "                        field_niicode,\n",
    "                        field_name,\n",
    "                        4,\n",
    "                    ]\n",
    "                    fieldlist.append(row)\n",
    "# リストをデータフレームに変換する\n",
    "columns = [\n",
    "    \"field_table_type\",\n",
    "    \"field_table_start_date\",\n",
    "    \"field_table_end_date\",\n",
    "    \"field_path\",\n",
    "    \"field_niicode\",\n",
    "    \"field_name\",\n",
    "    \"layer\",\n",
    "]\n",
    "df = pd.DataFrame(fieldlist, columns=columns)\n",
    "df"
   ]
  },
  {
   "cell_type": "code",
   "execution_count": null,
   "metadata": {
    "scrolled": true
   },
   "outputs": [],
   "source": [
    "# 外部キー制約を外す\n",
    "try:\n",
    "    with engine.connect() as con:\n",
    "        con.execute(\"ALTER TABLE grantaward DROP FOREIGN KEY field_niicode_1;\")\n",
    "except:\n",
    "    pass\n",
    "# データベースに書き込む\n",
    "df.to_sql(\n",
    "    \"fields\",\n",
    "    engine,\n",
    "    if_exists=\"replace\",\n",
    "    dtype={\n",
    "        \"field_table_type\": String(255),\n",
    "        \"field_table_start_date\": Date,\n",
    "        \"field_table_end_date\": Date,\n",
    "        \"field_path\": String(255),\n",
    "        \"field_niicode\": Integer,\n",
    "        \"field_name\": String(255),\n",
    "        \"layer\": Integer,\n",
    "    },\n",
    ")"
   ]
  },
  {
   "cell_type": "code",
   "execution_count": null,
   "metadata": {
    "scrolled": true
   },
   "outputs": [],
   "source": [
    "# 主キーと外部キー制約を設定する\n",
    "with engine.connect() as con:\n",
    "    con.execute(\"ALTER TABLE fields ADD INDEX (field_niicode);\")\n",
    "    con.execute(\"ALTER TABLE fields ADD INDEX (field_path);\")"
   ]
  },
  {
   "cell_type": "markdown",
   "metadata": {},
   "source": [
    "# 3. 研究機関マスタ"
   ]
  },
  {
   "cell_type": "code",
   "execution_count": null,
   "metadata": {
    "scrolled": true
   },
   "outputs": [],
   "source": [
    "# XMLファイルからリストを作成する\n",
    "tree = etree.parse(\"../grants_masterxml_kaken/institution_master_kakenhi.xml\")\n",
    "institutionlist = []\n",
    "for institution_table in tree.iterfind(\"institution_table\"):\n",
    "    for institution in institution_table.iterfind(\"institution\"):\n",
    "        institution_name_ja = institution.find(\"name[@lang='ja']\").text\n",
    "        institution_name_en = institution.find(\"name[@lang='en']\").text\n",
    "        institution_niicode = institution.find(\"code[@type='nii']\").text\n",
    "        institution_mextcode = institution.find(\"code[@type='mext']\").text\n",
    "        try:\n",
    "            institution_jspscode = institution.find(\"code[@type='jsps']\").text\n",
    "        except AttributeError:\n",
    "            institution_jspscode = None\n",
    "        row = [\n",
    "            institution_niicode,\n",
    "            institution_mextcode,\n",
    "            institution_jspscode,\n",
    "            institution_name_ja,\n",
    "            institution_name_en,\n",
    "        ]\n",
    "        institutionlist.append(row)\n",
    "# リストからデータフレームに変換する\n",
    "columns = [\n",
    "    \"institution_niicode\",\n",
    "    \"institution_mextcode\",\n",
    "    \"institution_jspscode\",\n",
    "    \"institution_name_ja\",\n",
    "    \"institution_name_en\",\n",
    "]\n",
    "df = pd.DataFrame(institutionlist, columns=columns)\n",
    "# 重複を削除して、category_niicodeに重複がないことを確認して、インデックスに設定する\n",
    "df = df.drop_duplicates()\n",
    "assert not df[\"institution_niicode\"].duplicated().any(), \"category_niicode is duplicated.\"\n",
    "df = df.set_index(\"institution_niicode\")\n",
    "df"
   ]
  },
  {
   "cell_type": "code",
   "execution_count": null,
   "metadata": {
    "scrolled": true
   },
   "outputs": [],
   "source": [
    "# 外部キー制約を外す\n",
    "try:\n",
    "    with engine.connect() as con:\n",
    "        con.execute(\"ALTER TABLE grantaward DROP FOREIGN KEY institution_niicode_1;\")\n",
    "except:\n",
    "    pass\n",
    "# データベースに書き込む\n",
    "df.to_sql(\n",
    "    \"institutions\",\n",
    "    engine,\n",
    "    if_exists=\"replace\",\n",
    "    dtype={\n",
    "        \"institution_niicode\": Integer,\n",
    "        \"institution_mextcodei\": String(255),\n",
    "        \"institution_jspscode\": String(255),\n",
    "    },\n",
    ")"
   ]
  },
  {
   "cell_type": "markdown",
   "metadata": {},
   "source": [
    "## 4. 審査区分マスタ"
   ]
  },
  {
   "cell_type": "code",
   "execution_count": null,
   "metadata": {
    "scrolled": true
   },
   "outputs": [],
   "source": [
    "# XMLファイルからリストを作成する\n",
    "tree = etree.parse(\"../grants_masterxml_kaken/review_section_master_kakenhi.xml\")\n",
    "review_sectionlist = []\n",
    "for review_section_table in tree.iterfind(\"review_section_table\"):\n",
    "    review_section_table_type = review_section_table.get(\"type\")\n",
    "    review_section_table_start_date = review_section_table.get(\"start_date\")\n",
    "    review_section_table_end_date = review_section_table.get(\"end_date\")\n",
    "    # layer 1\n",
    "    for review_section in review_section_table.iterfind(\"review_section\"):\n",
    "        review_section_path = review_section.get(\"path\")\n",
    "        review_section_niicode = review_section.find(\"code[@type='nii']\").text\n",
    "        review_section_name = review_section.find(\"name[@lang='ja']\").text\n",
    "        row = [\n",
    "            review_section_table_type,\n",
    "            review_section_table_start_date,\n",
    "            review_section_table_end_date,\n",
    "            review_section_path,\n",
    "            review_section_niicode,\n",
    "            review_section_name,\n",
    "            1,\n",
    "        ]\n",
    "        review_sectionlist.append(row)\n",
    "        # layer 2\n",
    "        for review_section in review_section.iterfind(\"review_section\"):\n",
    "            review_section_path = review_section.get(\"path\")\n",
    "            review_section_niicode = review_section.find(\"code[@type='nii']\").text\n",
    "            review_section_name = review_section.find(\"name[@lang='ja']\").text\n",
    "            row = [\n",
    "                review_section_table_type,\n",
    "                review_section_table_start_date,\n",
    "                review_section_table_end_date,\n",
    "                review_section_path,\n",
    "                review_section_niicode,\n",
    "                review_section_name,\n",
    "                2,\n",
    "            ]\n",
    "            review_sectionlist.append(row)\n",
    "            # layer 3\n",
    "            for review_section in review_section.iterfind(\"review_section\"):\n",
    "                review_section_path = review_section.get(\"path\")\n",
    "                review_section_niicode = review_section.find(\"code[@type='nii']\").text\n",
    "                review_section_name = review_section.find(\"name[@lang='ja']\").text\n",
    "                row = [\n",
    "                    review_section_table_type,\n",
    "                    review_section_table_start_date,\n",
    "                    review_section_table_end_date,\n",
    "                    review_section_path,\n",
    "                    review_section_niicode,\n",
    "                    review_section_name,\n",
    "                    3,\n",
    "                ]\n",
    "                review_sectionlist.append(row)\n",
    "# リストからデータフレームに変換する\n",
    "columns = [\n",
    "    \"review_section_table_type\",\n",
    "    \"review_section_table_start_date\",\n",
    "    \"review_section_table_end_date\",\n",
    "    \"review_section_path\",\n",
    "    \"review_section_niicode\",\n",
    "    \"review_section_name\",\n",
    "    \"layer\",\n",
    "]\n",
    "df = pd.DataFrame(review_sectionlist, columns=columns)\n",
    "df"
   ]
  },
  {
   "cell_type": "code",
   "execution_count": null,
   "metadata": {
    "scrolled": true
   },
   "outputs": [],
   "source": [
    "# 外部キー制約を外す\n",
    "try:\n",
    "    with engine.connect() as con:\n",
    "        con.execute(\"ALTER TABLE grantaward DROP FOREIGN KEY review_section_niicode_1;\")\n",
    "except:\n",
    "    pass\n",
    "# データベースに書き込む\n",
    "df.to_sql(\n",
    "    \"review_sections\",\n",
    "    engine,\n",
    "    if_exists=\"replace\",\n",
    "    dtype={\n",
    "        \"review_section_table_type\": String(255),\n",
    "        \"review_section_table_start_date\": Date,\n",
    "        \"review_section_table_end_date\": Date,\n",
    "        \"review_section_path\": String(255),\n",
    "        \"review_section_niicode\": Integer,\n",
    "        \"layer\": Integer,\n",
    "    },\n",
    ")"
   ]
  },
  {
   "cell_type": "code",
   "execution_count": null,
   "metadata": {},
   "outputs": [],
   "source": [
    "# 主キーと外部キー制約を設定する\n",
    "with engine.connect() as con:\n",
    "    con.execute(\"ALTER TABLE review_sections ADD INDEX (review_section_niicode);\")"
   ]
  },
  {
   "cell_type": "markdown",
   "metadata": {},
   "source": [
    "# 5. 応募区分マスタ"
   ]
  },
  {
   "cell_type": "code",
   "execution_count": null,
   "metadata": {
    "scrolled": true
   },
   "outputs": [],
   "source": [
    "# XMLファイルからリストを作成する\n",
    "tree = etree.parse(\"../grants_masterxml_kaken/section_master_kakenhi.xml\")\n",
    "sectionlist = []\n",
    "for section_table in tree.iterfind(\"section_table\"):\n",
    "    for section in section_table.iterfind(\"section\"):\n",
    "        section_name = section.find(\"name[@lang='ja']\").text\n",
    "        section_niicode = section.find(\"code[@type='nii']\").text\n",
    "        row = [section_niicode, section_name]\n",
    "        sectionlist.append(row)\n",
    "# リストをデータフレームに変換する\n",
    "columns = [\"section_niicode\", \"section_name\"]\n",
    "df = pd.DataFrame(sectionlist, columns=columns)\n",
    "# 重複を削除して、category_niicodeに重複がないことを確認して、インデックスに設定する\n",
    "df = df.drop_duplicates()\n",
    "assert not df[\"section_niicode\"].duplicated().any(), \"section_niicode is duplicated.\"\n",
    "df = df.set_index('section_niicode')\n",
    "df"
   ]
  },
  {
   "cell_type": "code",
   "execution_count": null,
   "metadata": {
    "scrolled": true
   },
   "outputs": [],
   "source": [
    "# 外部キー制約を外す\n",
    "try:\n",
    "    with engine.connect() as con:\n",
    "        con.execute(\"ALTER TABLE grantaward DROP FOREIGN KEY section_niicode_1;\")\n",
    "except:\n",
    "    pass\n",
    "# データベースに書き込む\n",
    "df.to_sql(\"sections\", engine, if_exists=\"replace\", dtype={\"section_niicode\": Integer})"
   ]
  },
  {
   "cell_type": "markdown",
   "metadata": {},
   "source": [
    "ここまででマスタが完成"
   ]
  }
 ],
 "metadata": {
  "kernelspec": {
   "display_name": "Python 3",
   "language": "python",
   "name": "python3"
  },
  "language_info": {
   "codemirror_mode": {
    "name": "ipython",
    "version": 3
   },
   "file_extension": ".py",
   "mimetype": "text/x-python",
   "name": "python",
   "nbconvert_exporter": "python",
   "pygments_lexer": "ipython3",
   "version": "3.7.5"
  }
 },
 "nbformat": 4,
 "nbformat_minor": 2
}
